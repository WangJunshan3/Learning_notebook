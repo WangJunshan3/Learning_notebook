{
 "cells": [
  {
   "cell_type": "markdown",
   "metadata": {
    "hide_input": true
   },
   "source": [
    "[Coursera Link](https://www.coursera.org/specializations/deep-learning#courses)\n",
    "# Course 1: Neural Networks and Deep Learning "
   ]
  },
  {
   "cell_type": "markdown",
   "metadata": {
    "hide_input": true
   },
   "source": [
    "**About the Course**\n",
    "\n",
    "If you want to break into cutting-edge AI, this course will help you do so. Deep learning engineers are highly sought after, and mastering deep learning will give you numerous new career opportunities. Deep learning is also a new \"superpower\" that will let you build AI systems that just weren't possible a few years ago. In this course, you will learn the foundations of deep learning. When you finish this class, you will: - Understand the major technology trends driving Deep Learning - Be able to build, train and apply fully connected deep neural networks - Know how to implement efficient (vectorized) neural networks - Understand the key parameters in a neural network's architecture This course also teaches you how Deep Learning actually works, rather than presenting only a cursory or surface-level description. So after completing it, you will be able to apply deep learning to a your own applications. If you are looking for a job in AI, after this course you will also be able to answer basic interview questions. This is the first course of the Deep Learning Specialization.\n",
    "\n"
   ]
  },
  {
   "cell_type": "markdown",
   "metadata": {
    "toc": true
   },
   "source": [
    "<h1>Table of Contents<span class=\"tocSkip\"></span></h1>\n",
    "<div class=\"toc\"><ul class=\"toc-item\"><li><span><a href=\"#WEEK-1:-Introduction-to-deep-learning\" data-toc-modified-id=\"WEEK-1:-Introduction-to-deep-learning-1\"><span class=\"toc-item-num\">1&nbsp;&nbsp;</span>WEEK 1: Introduction to deep learning</a></span><ul class=\"toc-item\"><li><span><a href=\"#-Video-·-Welcome\" data-toc-modified-id=\"-Video-·-Welcome-1.1\"><span class=\"toc-item-num\">1.1&nbsp;&nbsp;</span><ins> <em>Video · Welcome</em></ins></a></span></li><li><span><a href=\"#--Video-·-What-is-a-neural-network?-\" data-toc-modified-id=\"--Video-·-What-is-a-neural-network?--1.2\"><span class=\"toc-item-num\">1.2&nbsp;&nbsp;</span><ins> <em> Video · What is a neural network? </em></ins></a></span></li><li><span><a href=\"#--Video-·-Supervised-Learning-with-Neural-Networks-\" data-toc-modified-id=\"--Video-·-Supervised-Learning-with-Neural-Networks--1.3\"><span class=\"toc-item-num\">1.3&nbsp;&nbsp;</span><ins> <em> Video · Supervised Learning with Neural Networks </em></ins></a></span></li><li><span><a href=\"#--Video-·-Why-is-Deep-Learning-taking-off?\" data-toc-modified-id=\"--Video-·-Why-is-Deep-Learning-taking-off?-1.4\"><span class=\"toc-item-num\">1.4&nbsp;&nbsp;</span><ins> <em> Video · Why is Deep Learning taking off?</em></ins></a></span></li><li><span><a href=\"#--Video-·-About-this-Course-\" data-toc-modified-id=\"--Video-·-About-this-Course--1.5\"><span class=\"toc-item-num\">1.5&nbsp;&nbsp;</span><ins> <em> Video · About this Course </em></ins></a></span></li><li><span><a href=\"#--Reading-·-Frequently-Asked-Questions\" data-toc-modified-id=\"--Reading-·-Frequently-Asked-Questions-1.6\"><span class=\"toc-item-num\">1.6&nbsp;&nbsp;</span><ins> <em> Reading · Frequently Asked Questions</em></ins></a></span></li><li><span><a href=\"#--Video-·-Course-Resources\" data-toc-modified-id=\"--Video-·-Course-Resources-1.7\"><span class=\"toc-item-num\">1.7&nbsp;&nbsp;</span><ins> <em> Video · Course Resources</em></ins></a></span></li><li><span><a href=\"#--Reading-·-How-to-use-Discussion-Forums\" data-toc-modified-id=\"--Reading-·-How-to-use-Discussion-Forums-1.8\"><span class=\"toc-item-num\">1.8&nbsp;&nbsp;</span><ins> <em> Reading · How to use Discussion Forums</em></ins></a></span></li><li><span><a href=\"#--Quiz-·-In-troduction-to-deep-learning\" data-toc-modified-id=\"--Quiz-·-In-troduction-to-deep-learning-1.9\"><span class=\"toc-item-num\">1.9&nbsp;&nbsp;</span><ins> <em> Quiz · In troduction to deep learning</em></ins></a></span></li></ul></li><li><span><a href=\"#WEEK-2:-Neural-Networks-Basics\" data-toc-modified-id=\"WEEK-2:-Neural-Networks-Basics-2\"><span class=\"toc-item-num\">2&nbsp;&nbsp;</span>WEEK 2: Neural Networks Basics</a></span><ul class=\"toc-item\"><li><span><a href=\"#--Video-·-Binary-Classification\" data-toc-modified-id=\"--Video-·-Binary-Classification-2.1\"><span class=\"toc-item-num\">2.1&nbsp;&nbsp;</span><ins> <em> Video · Binary Classification</em></ins></a></span></li><li><span><a href=\"#--Video-·-Logistic-Regression\" data-toc-modified-id=\"--Video-·-Logistic-Regression-2.2\"><span class=\"toc-item-num\">2.2&nbsp;&nbsp;</span><ins> <em> Video · Logistic Regression</em></ins></a></span></li><li><span><a href=\"#--Video-·-Logistic-Regression-Cost-Function\" data-toc-modified-id=\"--Video-·-Logistic-Regression-Cost-Function-2.3\"><span class=\"toc-item-num\">2.3&nbsp;&nbsp;</span><ins> <em> Video · Logistic Regression Cost Function</em></ins></a></span></li><li><span><a href=\"#--Video-·-Gradient-Descent\" data-toc-modified-id=\"--Video-·-Gradient-Descent-2.4\"><span class=\"toc-item-num\">2.4&nbsp;&nbsp;</span><ins> <em> Video · Gradient Descent</em></ins></a></span></li><li><span><a href=\"#--Video-·-Derivatives\" data-toc-modified-id=\"--Video-·-Derivatives-2.5\"><span class=\"toc-item-num\">2.5&nbsp;&nbsp;</span><ins> <em> Video · Derivatives</em></ins></a></span></li><li><span><a href=\"#--Video-·-More-Derivative-Examples\" data-toc-modified-id=\"--Video-·-More-Derivative-Examples-2.6\"><span class=\"toc-item-num\">2.6&nbsp;&nbsp;</span><ins> <em> Video · More Derivative Examples</em></ins></a></span></li><li><span><a href=\"#--Video-·-Computation-graph\" data-toc-modified-id=\"--Video-·-Computation-graph-2.7\"><span class=\"toc-item-num\">2.7&nbsp;&nbsp;</span><ins> <em> Video · Computation graph</em></ins></a></span></li><li><span><a href=\"#--Video-·-Derivatives-with-a-Computation-Graph\" data-toc-modified-id=\"--Video-·-Derivatives-with-a-Computation-Graph-2.8\"><span class=\"toc-item-num\">2.8&nbsp;&nbsp;</span><ins> <em> Video · Derivatives with a Computation Graph</em></ins></a></span></li><li><span><a href=\"#--Video-·-Logistic-Regression-Gradient-Descent\" data-toc-modified-id=\"--Video-·-Logistic-Regression-Gradient-Descent-2.9\"><span class=\"toc-item-num\">2.9&nbsp;&nbsp;</span><ins> <em> Video · Logistic Regression Gradient Descent</em></ins></a></span></li><li><span><a href=\"#--Video-·-Gradient-Descent-on-m-Examples\" data-toc-modified-id=\"--Video-·-Gradient-Descent-on-m-Examples-2.10\"><span class=\"toc-item-num\">2.10&nbsp;&nbsp;</span><ins> <em> Video · Gradient Descent on m Examples</em></ins></a></span></li><li><span><a href=\"#--Video-·-Vectorization\" data-toc-modified-id=\"--Video-·-Vectorization-2.11\"><span class=\"toc-item-num\">2.11&nbsp;&nbsp;</span><ins> <em> Video · Vectorization</em></ins></a></span></li><li><span><a href=\"#--Video-·-More-Vectorization-Examples\" data-toc-modified-id=\"--Video-·-More-Vectorization-Examples-2.12\"><span class=\"toc-item-num\">2.12&nbsp;&nbsp;</span><ins> <em> Video · More Vectorization Examples</em></ins></a></span></li><li><span><a href=\"#--Video-·-Vectorizing-Logistic-Regression\" data-toc-modified-id=\"--Video-·-Vectorizing-Logistic-Regression-2.13\"><span class=\"toc-item-num\">2.13&nbsp;&nbsp;</span><ins> <em> Video · Vectorizing Logistic Regression</em></ins></a></span></li><li><span><a href=\"#--Video-·-Vectorizing-Logistic-Regression's-Gradient-Output\" data-toc-modified-id=\"--Video-·-Vectorizing-Logistic-Regression's-Gradient-Output-2.14\"><span class=\"toc-item-num\">2.14&nbsp;&nbsp;</span><ins> <em> Video · Vectorizing Logistic Regression's Gradient Output</em></ins></a></span></li><li><span><a href=\"#--Video-·-Broadcasting-in-Python\" data-toc-modified-id=\"--Video-·-Broadcasting-in-Python-2.15\"><span class=\"toc-item-num\">2.15&nbsp;&nbsp;</span><ins> <em> Video · Broadcasting in Python</em></ins></a></span></li><li><span><a href=\"#--Video-·-A-note-on-python/numpy-vectors\" data-toc-modified-id=\"--Video-·-A-note-on-python/numpy-vectors-2.16\"><span class=\"toc-item-num\">2.16&nbsp;&nbsp;</span><ins> <em> Video · A note on python/numpy vectors</em></ins></a></span></li><li><span><a href=\"#--Video-·-Quick-tour-of-Jupyter/iPython-Notebooks\" data-toc-modified-id=\"--Video-·-Quick-tour-of-Jupyter/iPython-Notebooks-2.17\"><span class=\"toc-item-num\">2.17&nbsp;&nbsp;</span><ins> <em> Video · Quick tour of Jupyter/iPython Notebooks</em></ins></a></span></li><li><span><a href=\"#--Video-·-Explanation-of-logistic-regression-cost-function-(optional)\" data-toc-modified-id=\"--Video-·-Explanation-of-logistic-regression-cost-function-(optional)-2.18\"><span class=\"toc-item-num\">2.18&nbsp;&nbsp;</span><ins> <em> Video · Explanation of logistic regression cost function (optional)</em></ins></a></span></li><li><span><a href=\"#--Quiz-·-Neural-Network-Basics\" data-toc-modified-id=\"--Quiz-·-Neural-Network-Basics-2.19\"><span class=\"toc-item-num\">2.19&nbsp;&nbsp;</span><ins> <em> Quiz · Neural Network Basics</em></ins></a></span></li><li><span><a href=\"#--Reading-·-Deep-Learning-Honor-Code\" data-toc-modified-id=\"--Reading-·-Deep-Learning-Honor-Code-2.20\"><span class=\"toc-item-num\">2.20&nbsp;&nbsp;</span><ins> <em> Reading · Deep Learning Honor Code</em></ins></a></span></li><li><span><a href=\"#--Reading-·-Programming-Assignment-FAQ\" data-toc-modified-id=\"--Reading-·-Programming-Assignment-FAQ-2.21\"><span class=\"toc-item-num\">2.21&nbsp;&nbsp;</span><ins> <em> Reading · Programming Assignment FAQ</em></ins></a></span></li><li><span><a href=\"#--Other-·-Python-Basics-with-numpy-(optional)\" data-toc-modified-id=\"--Other-·-Python-Basics-with-numpy-(optional)-2.22\"><span class=\"toc-item-num\">2.22&nbsp;&nbsp;</span><ins> <em> Other · Python Basics with numpy (optional)</em></ins></a></span></li><li><span><a href=\"#--Practice-Programming-Assignment-·-Python-Basics-with-numpy-(optional)\" data-toc-modified-id=\"--Practice-Programming-Assignment-·-Python-Basics-with-numpy-(optional)-2.23\"><span class=\"toc-item-num\">2.23&nbsp;&nbsp;</span><ins> <em> Practice Programming Assignment · Python Basics with numpy (optional)</em></ins></a></span></li><li><span><a href=\"#--Other-·-Logistic-Regression-with-a-Neural-Network-mindset\" data-toc-modified-id=\"--Other-·-Logistic-Regression-with-a-Neural-Network-mindset-2.24\"><span class=\"toc-item-num\">2.24&nbsp;&nbsp;</span><ins> <em> Other · Logistic Regression with a Neural Network mindset</em></ins></a></span></li><li><span><a href=\"#--Programming-Assignment-·-Logistic-Regression-with-a-Neural-Network-mindset\" data-toc-modified-id=\"--Programming-Assignment-·-Logistic-Regression-with-a-Neural-Network-mindset-2.25\"><span class=\"toc-item-num\">2.25&nbsp;&nbsp;</span><ins> <em> Programming Assignment · Logistic Regression with a Neural Network mindset</em></ins></a></span></li></ul></li><li><span><a href=\"#WEEK-3:-Shallow-neural-networks\" data-toc-modified-id=\"WEEK-3:-Shallow-neural-networks-3\"><span class=\"toc-item-num\">3&nbsp;&nbsp;</span>WEEK 3: Shallow neural networks</a></span><ul class=\"toc-item\"><li><span><a href=\"#--Video-·-Neural-Networks-Overview\" data-toc-modified-id=\"--Video-·-Neural-Networks-Overview-3.1\"><span class=\"toc-item-num\">3.1&nbsp;&nbsp;</span><ins> <em> Video · Neural Networks Overview</em></ins></a></span></li><li><span><a href=\"#--Video-·-Neural-Network-Representation\" data-toc-modified-id=\"--Video-·-Neural-Network-Representation-3.2\"><span class=\"toc-item-num\">3.2&nbsp;&nbsp;</span><ins> <em> Video · Neural Network Representation</em></ins></a></span></li><li><span><a href=\"#--Video-·-Computing-a-Neural-Network's-Output\" data-toc-modified-id=\"--Video-·-Computing-a-Neural-Network's-Output-3.3\"><span class=\"toc-item-num\">3.3&nbsp;&nbsp;</span><ins> <em> Video · Computing a Neural Network's Output</em></ins></a></span></li><li><span><a href=\"#--Video-·-Vectorizing-across-multiple-examples\" data-toc-modified-id=\"--Video-·-Vectorizing-across-multiple-examples-3.4\"><span class=\"toc-item-num\">3.4&nbsp;&nbsp;</span><ins> <em> Video · Vectorizing across multiple examples</em></ins></a></span></li><li><span><a href=\"#--Video-·-Explanation-for-Vectorized-Implementation\" data-toc-modified-id=\"--Video-·-Explanation-for-Vectorized-Implementation-3.5\"><span class=\"toc-item-num\">3.5&nbsp;&nbsp;</span><ins> <em> Video · Explanation for Vectorized Implementation</em></ins></a></span></li><li><span><a href=\"#--Video-·-Activation-functions\" data-toc-modified-id=\"--Video-·-Activation-functions-3.6\"><span class=\"toc-item-num\">3.6&nbsp;&nbsp;</span><ins> <em> Video · Activation functions</em></ins></a></span></li><li><span><a href=\"#--Video-·-Why-do-you-need-non-linear-activation-functions?\" data-toc-modified-id=\"--Video-·-Why-do-you-need-non-linear-activation-functions?-3.7\"><span class=\"toc-item-num\">3.7&nbsp;&nbsp;</span><ins> <em> Video · Why do you need non-linear activation functions?</em></ins></a></span></li><li><span><a href=\"#--Video-·-Derivatives-of-activation-functions\" data-toc-modified-id=\"--Video-·-Derivatives-of-activation-functions-3.8\"><span class=\"toc-item-num\">3.8&nbsp;&nbsp;</span><ins> <em> Video · Derivatives of activation functions</em></ins></a></span></li><li><span><a href=\"#--Video-·-Gradient-descent-for-Neural-Networks\" data-toc-modified-id=\"--Video-·-Gradient-descent-for-Neural-Networks-3.9\"><span class=\"toc-item-num\">3.9&nbsp;&nbsp;</span><ins> <em> Video · Gradient descent for Neural Networks</em></ins></a></span></li><li><span><a href=\"#--Video-·-Backpropagation-intuition-(optional)\" data-toc-modified-id=\"--Video-·-Backpropagation-intuition-(optional)-3.10\"><span class=\"toc-item-num\">3.10&nbsp;&nbsp;</span><ins> <em> Video · Backpropagation intuition (optional)</em></ins></a></span></li><li><span><a href=\"#--Video-·-Random-Initialization\" data-toc-modified-id=\"--Video-·-Random-Initialization-3.11\"><span class=\"toc-item-num\">3.11&nbsp;&nbsp;</span><ins> <em> Video · Random Initialization</em></ins></a></span></li><li><span><a href=\"#--Quiz-·-Shallow-Neural-Networks\" data-toc-modified-id=\"--Quiz-·-Shallow-Neural-Networks-3.12\"><span class=\"toc-item-num\">3.12&nbsp;&nbsp;</span><ins> <em> Quiz · Shallow Neural Networks</em></ins></a></span></li><li><span><a href=\"#--Other-·-Planar-data-classification-with-a-hidden-layer\" data-toc-modified-id=\"--Other-·-Planar-data-classification-with-a-hidden-layer-3.13\"><span class=\"toc-item-num\">3.13&nbsp;&nbsp;</span><ins> <em> Other · Planar data classification with a hidden layer</em></ins></a></span></li><li><span><a href=\"#--Programming-Assignment-·-Planar-data-classification-with-a-hidden-layer\" data-toc-modified-id=\"--Programming-Assignment-·-Planar-data-classification-with-a-hidden-layer-3.14\"><span class=\"toc-item-num\">3.14&nbsp;&nbsp;</span><ins> <em> Programming Assignment · Planar data classification with a hidden layer</em></ins></a></span></li></ul></li><li><span><a href=\"#WEEK-4:-Deep-Neural-Networks\" data-toc-modified-id=\"WEEK-4:-Deep-Neural-Networks-4\"><span class=\"toc-item-num\">4&nbsp;&nbsp;</span>WEEK 4: Deep Neural Networks</a></span><ul class=\"toc-item\"><li><span><a href=\"#--Video-·-Deep-L-layer-neural-network\" data-toc-modified-id=\"--Video-·-Deep-L-layer-neural-network-4.1\"><span class=\"toc-item-num\">4.1&nbsp;&nbsp;</span><ins> <em> Video · Deep L-layer neural network</em></ins></a></span></li><li><span><a href=\"#--Video-·-Forward-Propagation-in-a-Deep-Network\" data-toc-modified-id=\"--Video-·-Forward-Propagation-in-a-Deep-Network-4.2\"><span class=\"toc-item-num\">4.2&nbsp;&nbsp;</span><ins> <em> Video · Forward Propagation in a Deep Network</em></ins></a></span></li><li><span><a href=\"#--Video-·-Getting-your-matrix-dimensions-right\" data-toc-modified-id=\"--Video-·-Getting-your-matrix-dimensions-right-4.3\"><span class=\"toc-item-num\">4.3&nbsp;&nbsp;</span><ins> <em> Video · Getting your matrix dimensions right</em></ins></a></span></li><li><span><a href=\"#--Video-·-Why-deep-representations?\" data-toc-modified-id=\"--Video-·-Why-deep-representations?-4.4\"><span class=\"toc-item-num\">4.4&nbsp;&nbsp;</span><ins> <em> Video · Why deep representations?</em></ins></a></span></li><li><span><a href=\"#--Video-·-Building-blocks-of-deep-neural-networks\" data-toc-modified-id=\"--Video-·-Building-blocks-of-deep-neural-networks-4.5\"><span class=\"toc-item-num\">4.5&nbsp;&nbsp;</span><ins> <em> Video · Building blocks of deep neural networks</em></ins></a></span></li><li><span><a href=\"#--Video-·-Forward-and-Back-Propagation\" data-toc-modified-id=\"--Video-·-Forward-and-Back-Propagation-4.6\"><span class=\"toc-item-num\">4.6&nbsp;&nbsp;</span><ins> <em> Video · Forward and Back Propagation</em></ins></a></span></li><li><span><a href=\"#--Video-·-Parameters-vs-Hyperparameters\" data-toc-modified-id=\"--Video-·-Parameters-vs-Hyperparameters-4.7\"><span class=\"toc-item-num\">4.7&nbsp;&nbsp;</span><ins> <em> Video · Parameters vs Hyperparameters</em></ins></a></span></li><li><span><a href=\"#--Video-·-What-does-this-have-to-do-with-the-brain?\" data-toc-modified-id=\"--Video-·-What-does-this-have-to-do-with-the-brain?-4.8\"><span class=\"toc-item-num\">4.8&nbsp;&nbsp;</span><ins> <em> Video · What does this have to do with the brain?</em></ins></a></span></li><li><span><a href=\"#--Quiz-·-Key-concepts-on-Deep-Neural-Networks\" data-toc-modified-id=\"--Quiz-·-Key-concepts-on-Deep-Neural-Networks-4.9\"><span class=\"toc-item-num\">4.9&nbsp;&nbsp;</span><ins> <em> Quiz · Key concepts on Deep Neural Networks</em></ins></a></span></li><li><span><a href=\"#--Other-·-Building-your-Deep-Neural-Network:-Step-by-Step\" data-toc-modified-id=\"--Other-·-Building-your-Deep-Neural-Network:-Step-by-Step-4.10\"><span class=\"toc-item-num\">4.10&nbsp;&nbsp;</span><ins> <em> Other · Building your Deep Neural Network: Step by Step</em></ins></a></span></li><li><span><a href=\"#--Programming-Assignment-·-Building-your-deep-neural-network:-Step-by-Step\" data-toc-modified-id=\"--Programming-Assignment-·-Building-your-deep-neural-network:-Step-by-Step-4.11\"><span class=\"toc-item-num\">4.11&nbsp;&nbsp;</span><ins> <em> Programming Assignment · Building your deep neural network: Step by Step</em></ins></a></span></li><li><span><a href=\"#--Other-·-Deep-Neural-Network---Application\" data-toc-modified-id=\"--Other-·-Deep-Neural-Network---Application-4.12\"><span class=\"toc-item-num\">4.12&nbsp;&nbsp;</span><ins> <em> Other · Deep Neural Network - Application</em></ins></a></span></li><li><span><a href=\"#--Programming-Assignment-·-Deep-Neural-Network-Application\" data-toc-modified-id=\"--Programming-Assignment-·-Deep-Neural-Network-Application-4.13\"><span class=\"toc-item-num\">4.13&nbsp;&nbsp;</span><ins> <em> Programming Assignment · Deep Neural Network Application</em></ins></a></span></li></ul></li></ul></div>"
   ]
  },
  {
   "cell_type": "markdown",
   "metadata": {},
   "source": [
    "what ```python code``` looks like in code environment\n",
    "\n",
    "```python\n",
    "print \"Hello World\"\n",
    "```"
   ]
  },
  {
   "cell_type": "markdown",
   "metadata": {
    "heading_collapsed": true
   },
   "source": [
    "## WEEK 1: Introduction to deep learning\n",
    "Be able to explain the major trends driving the rise of deep learning, and understand where and how it is applied today."
   ]
  },
  {
   "cell_type": "markdown",
   "metadata": {
    "heading_collapsed": true,
    "hidden": true,
    "hide_input": true,
    "slideshow": {
     "slide_type": "-"
    }
   },
   "source": [
    "### <ins> *Video · Welcome*</ins>\n",
    "###### <span style=\"color:red\">  My Comment </span>\n",
    "Problems in course 3:\n",
    "* validation set and training set come from different distribution\n",
    "* end-to-end \n",
    "\n",
    "### <ins> * Video · What is a neural network? *</ins>\n",
    "###### <span style=\"color:red\">  My Comment </span>\n",
    "* neuros\t \n",
    "* activation function, for example, ReLu\n",
    "* layers: input/hidden/output layers\n",
    "\n",
    "### <ins> * Video · Supervised Learning with Neural Networks *</ins>\n",
    "###### <span style=\"color:red\">  My Comment </span>\n",
    "* certain and well defined input features, target output variable\n",
    "* Types of NN\n",
    "    * RNN: Time series (audio, English translation) \n",
    "    * CNN: radar pics, video\n",
    "    * Standard NN\n",
    "* Type of data\n",
    "    * structured data\n",
    "        * statistical variables like: size, #bedrooms\n",
    "    * unstructured data\n",
    "        * audio, image, text\n",
    "            \n",
    "### <ins> * Video · Why is Deep Learning taking off?*</ins>\n",
    "\n",
    "###### <span style=\"color:red\">  My Comment </span>\n",
    "1. Data: scale of data increase (accumulate in years)\n",
    "    * performance as the amount of (labeled) data (for large training data set)\n",
    "        * large NN > medium NN > small NN > traditional learning algorithm (SVM, logarithm regularization, etc.)\n",
    "2. Computation\n",
    "3. Algorithms, for example, change of activation function makes the gradient descent works better in cases.\n",
    "    * ReLu; Sigmoid \n",
    "* How it works (circle process) : Idea -> code -> experiment ->idea  (to accelerate the speed)\n",
    "\n",
    "### <ins> * Video · About this Course *</ins>\n",
    "### <ins> * Reading · Frequently Asked Questions*</ins>\n",
    "### <ins> * Video · Course Resources*</ins>\n",
    "### <ins> * Reading · How to use Discussion Forums*</ins>\n",
    "### <ins> * Quiz · In troduction to deep learning*</ins>\n"
   ]
  },
  {
   "cell_type": "markdown",
   "metadata": {
    "heading_collapsed": true
   },
   "source": [
    "## WEEK 2: Neural Networks Basics\n",
    "Learn to set up a machine learning problem with a neural network mindset. Learn to use vectorization to speed up your models."
   ]
  },
  {
   "cell_type": "markdown",
   "metadata": {
    "hidden": true
   },
   "source": [
    "### <ins> * Video · Binary Classification*</ins>\n",
    "###### <span style=\"color:red\">  My Comment </span>\n",
    "* pic -> output y = 1 (cat) / 0 (non cat)\n",
    "* pic: color channels: red, green, blue (64X64 pixels)\n",
    "* input feature: $x = (red, green, blue)^T$; dim: $n_x = 64*64*3 =12288 $ \n",
    "* Training examples\n",
    "    * $X=(x_1, x_2,...,x_M)$; dim: $n_x \\times M$\n",
    "    * $Y=(y_1, y_2,...,y_M)$; dim: $1 \\times M$\n",
    "    \n",
    "### <ins> * Video · Logistic Regression*</ins>\n",
    "###### <span style=\"color:red\">  My Comment </span>\n",
    "* given $x \\in R^{n_x}$, output $\\hat{y} = P(y=1|x)$, \n",
    "* Parameters: $w \\in R^{n_x}$;$ b \\in R$\n",
    "* output $\\textstyle\\hat{y} = \\sigma ( w^T x+b) $\n",
    "    * sigmoid activation function:\n",
    "    * $\\sigma (z) =1/(1+e^{-z}) $    \n",
    "    \n",
    "### <ins> * Video · Logistic Regression Cost Function*</ins>\n",
    "###### <span style=\"color:red\">  My Comment </span>\n",
    "given ${(x^{(1)},y^{(1)}),...(x^{(M)},y^{(M)})}$, want $\\hat{y}^{(i)}~= y^{(i)}$\n",
    "- loss function for logistic regression:  \n",
    "   $ L(\\hat{y},y) = - (y \\log \\hat{y} + ( 1-y )  \\log (1-\\hat{y})) $   \n",
    " - $ y =1$, want $\\log (\\hat{y})$ large, want $\\hat{y}$ large\n",
    " - $y =0$, ...\n",
    "- cost function  \n",
    "    $J(w, b) = 1/M \\ \\sum_{i=1}^M L(\\hat{y}^{(i)},  y^{(i)})$\n",
    "\n",
    "### <ins> * Video · Gradient Descent*</ins>\n",
    "###### <span style=\"color:red\">  My Comment </span>\n",
    "* Want to find w and b to minimize J(w, b)\n",
    "* global optimum vs local optimum\n",
    "* $\\hat{y} = w^T x+b$ (logic behind)\n",
    "* repeat do iterations:  \n",
    "\n",
    "    1. $ w := w - \\alpha \\ d J(w, b) /d w $\n",
    "        * $ \\alpha$ is the learning rate \n",
    "        * $d J(w, b) /d w$ is derivative of $J(w,b)$ w.r.t $w$ (slope of the function $J(w)$ in the $w$ direction)\n",
    "    \n",
    "    2. $b := b - \\alpha \\ d J(w, b) /d b $  \n",
    "* derivative symbol: $d$ (uni variable)  vs.  $\\partial$  (partial derivative symbol) if two or more variables. \n",
    "\n",
    "### <ins> * Video · Derivatives*</ins>\n",
    "\n",
    "### <ins> * Video · More Derivative Examples*</ins>\n",
    "\n",
    "### <ins> * Video · Computation graph*</ins>\n",
    "###### <span style=\"color:red\">  My Comment </span>\n",
    "forward computation  \n",
    "$J(a, b, c) = 3(a+b \\ c)$, let $ u=b\\ c$, $v=a+u$, $J=3 \\ v$\n",
    "\n",
    "### <ins> * Video · Derivatives with a Computation Graph*</ins>\n",
    "###### <span style=\"color:red\">  My Comment </span>\n",
    "backward computation\n",
    "* $d J \\ / \\ d v =3$; $d J \\ / \\ d a= d J \\ / \\ d v \\times d v \\ / \\ d a = 3$ ( chain rule)\n",
    "* convenient behavior in coding: use \"$ d \\ var$ \" to represent the derivative \" $ d \\ findoutputvar \\ / \\ d  \\ var $ \". For example, use \"$d\\ a$ \" to represent \"$d J \\ / \\ d a$ \". \n",
    "* remark: use the value of the variables at the current iteration when the derivative contains that variable. For example, $ d b = 3 c = 6 $ if $c=2$ in this iteration.\n",
    "\n",
    "### <ins> * Video · Logistic Regression Gradient Descent*</ins>\n",
    "###### <span style=\"color:red\">  My Comment </span>\n",
    "* $z= w^T \\ x+b$\n",
    "* $\\hat{y} = a = \\sigma (z)$\n",
    "* $L (a, y) = -\\{ y \\log (a)+(1-y) \\log (1-a)\\}$\n",
    "* if $n_x=2$: \n",
    "    * forward computation\n",
    "        *  $x_1,\\ x_2,\\ w_1,\\ w_2,\\ b \\implies z= w_1 \\ x_1 + w_2 \\ x_2 +b \\implies a= \\sigma (z) \\implies L (a, y)$\n",
    "    * backward computation\n",
    "        * $d a  \\implies d z \\implies d w_1,\\ d w_2,\\ d b$\n",
    "    * Gradient decent ( repeat many iterations) (over one training example, M=1)\n",
    "        * $w_1 := w_1 - \\alpha \\ d w_1$\n",
    "        * $w_2 := w_2 - \\alpha \\ d w_2$\n",
    "        * $b := b - \\alpha \\ d b$\n",
    "\n",
    "### <ins> * Video · Gradient Descent on m Examples*</ins>\n",
    "###### <span style=\"color:red\">  My Comment </span>\n",
    "* backward computation\n",
    "    * $J(w, b) = 1/M \\ \\sum_{i=1}^M \\ L(\\hat{y}^{(i)},  y^{(i)})$\n",
    "* In each iteration\n",
    "    * Theoretically : $d w_1 = 1/M \\ \\sum_{i=1}^M \\ d w_1^{(i)}$ ; $d w_2 = 1/M \\   \\sum_{i=1}^M \\ d w_2^{(i)}$;$ d b = 1/M \\   \\sum_{i=1}^M \\ d b^{(i)}$\n",
    "    * Implementation\n",
    "        * for $i =1, ..., M$, calculate\n",
    "            * $z^{(i)} = w^T \\ x^{(i)}+b$\n",
    "            * $a^{(i)}= \\sigma (z^{(i)})$\n",
    "            * $J \\ +=  -(y^{(i)} \\ \\log(a^{(i)})+(1-y^{(i)}) \\ \\log(1-a^{(i)}))$\n",
    "            * $d a^{(i)} $\n",
    "            * $d z^{(i)} $\n",
    "            * $d w_1 \\ += d w_1^{(i)} $\n",
    "            * $d w_2 \\ += d w_2^{(i)}$\n",
    "            * $d b \\ += d b^{(i)}$\n",
    "        * $ d w_1 \\ /= M$\n",
    "        * $d w_2 \\ /= M$\n",
    "        * $d b \\ /= M$\n",
    "    * $w_1 := w_1 - \\alpha \\ d w_1$\n",
    "    * $w_2 := w_2 - \\alpha \\ d w_2$\n",
    "    * $ b := b - \\alpha \\ d b$\n",
    "\n",
    "### <ins> * Video · Vectorization*</ins>\n",
    "###### <span style=\"color:red\">  My Comment </span>\n",
    "* Computation time (np.dot vs for loop)\n",
    "* $J = np.dot(w,x)+b$ vs  $J(w, b) = 1/M \\ \\sum_{i=1}^M L(\\hat{y}^{(i)},  y^{(i)})$\n",
    "python code:"
   ]
  },
  {
   "cell_type": "code",
   "execution_count": 2,
   "metadata": {
    "code_folding": [],
    "hidden": true,
    "hide_input": false
   },
   "outputs": [
    {
     "name": "stdout",
     "output_type": "stream",
     "text": [
      "J = 249965.257150\n",
      "computation time of using np.dot is 0.047034 ms\n",
      "J = 249965.257150\n",
      "computation time of using for loop is 2.783976 ms\n"
     ]
    }
   ],
   "source": [
    "import pandas as pd\n",
    "import numpy as np\n",
    "import time\n",
    "dim=10**6\n",
    "# np.dot\n",
    "w = np.random.rand(dim)\n",
    "x = np.random.rand(dim)\n",
    "tic=time.time()\n",
    "J = np.dot(w,x)\n",
    "toc=time.time()\n",
    "print (\"J = %f\"%J)\n",
    "print(\"computation time of using np.dot is %f ms\"%(toc-tic))\n",
    "\n",
    "# for loop\n",
    "tic=time.time()\n",
    "J = 0\n",
    "for i in range(dim):\n",
    "    J += w[i]*x[i]\n",
    "toc=time.time()\n",
    "print (\"J = %f\"%J)\n",
    "print(\"computation time of using for loop is %f ms\"%(toc-tic))\n"
   ]
  },
  {
   "cell_type": "markdown",
   "metadata": {
    "collapsed": true,
    "hidden": true
   },
   "source": [
    "\n",
    "### <ins> * Video · More Vectorization Examples*</ins>\n",
    "### <ins> * Video · Vectorizing Logistic Regression*</ins>\n",
    "### <ins> * Video · Vectorizing Logistic Regression's Gradient Output*</ins>\n",
    "### <ins> * Video · Broadcasting in Python*</ins>\n",
    "### <ins> * Video · A note on python/numpy vectors*</ins>\n",
    "### <ins> * Video · Quick tour of Jupyter/iPython Notebooks*</ins>\n",
    "### <ins> * Video · Explanation of logistic regression cost function (optional)*</ins>\n",
    "###### <span style=\"color:red\">  My Comment </span>\n",
    "pdf of logistic regression is:  \n",
    "* 1 training sample has likelihood function:  \n",
    "$ p(y | x) = \\hat{y}^ y \\ (1-\\hat{y})^{(1-y)} \\implies \\log p(y | x) = y \\log \\hat{y} + {(1-y) \\log (1-\\hat{y})} $  \n",
    "* M training samples has likelihood function: \n",
    "\n",
    "$\\log \\prod_{i=1}^M p(y^{(i)} | x^{(i)}) = \\sum_{i=1}^M \\{ y^{(i)} \\log \\hat{y}^{(i)} + {(1-y^{(i)}) \\log (1-\\hat{y}^{(i)})} \\} $\n",
    "\n",
    "$\\implies MLE \\iff minimizing \\ M \\times J(w,b)  \\iff Minimizing \\ J(w,b)$\n",
    "\n",
    "\n",
    "### <ins> * Quiz · Neural Network Basics*</ins>\n",
    "### <ins> * Reading · Deep Learning Honor Code*</ins>\n",
    "### <ins> * Reading · Programming Assignment FAQ*</ins>\n",
    "### <ins> * Other · Python Basics with numpy (optional)*</ins>\n",
    "### <ins> * Practice Programming Assignment · Python Basics with numpy (optional)*</ins>\n",
    "### <ins> * Other · Logistic Regression with a Neural Network mindset*</ins>\n",
    "### <ins> * Programming Assignment · Logistic Regression with a Neural Network mindset*</ins>\n",
    "\n"
   ]
  },
  {
   "cell_type": "markdown",
   "metadata": {
    "heading_collapsed": true
   },
   "source": [
    "## WEEK 3: Shallow neural networks\n",
    "Learn to build a neural network with one hidden layer, using forward propagation and backpropagation."
   ]
  },
  {
   "cell_type": "markdown",
   "metadata": {
    "collapsed": true,
    "hidden": true
   },
   "source": [
    "### <ins> * Video · Neural Networks Overview*</ins>\n",
    "###### <span style=\"color:red\">  My Comment </span>\n",
    "\n",
    "### <ins> * Video · Neural Network Representation*</ins>\n",
    "###### <span style=\"color:red\">  My Comment </span>\n",
    "Notation convention: \n",
    "* don't count the input layer, for example, input layer+hidden layer+output layer, is called a 2 layer NN.\n",
    "* $a^{[l]}_i$ represents the the node $i$ in layer $l$ \n",
    "* $a^{[l]}_i = \\sigma ((w_i^{[l]})^T \\ x + b_i^{[l]})$\n",
    "* at layer $l$, \n",
    "    * use $w^{[l]} = ((w_i^{[l]})_i$ to represent the weight matrix, which has dim $dim \\ of \\ layer \\ l \\times dim \\ of \\ feature \\ vector $\n",
    "    * use $b^{[l]}= (b_i^{[l]})_i$ to represent the constant vector, which has dim $dim \\ of \\ layer \\ l \\times 1 $\n",
    "    \n",
    "### <ins> * Video · Computing a Neural Network's Output*</ins>\n",
    "### <ins> * Video · Vectorizing across multiple examples*</ins>\n",
    "###### <span style=\"color:red\">  My Comment </span>\n",
    "for M training samples, vectorizing by stack them in columns:\n",
    "* $X = (x^{(1)},...x^{(M)})$, where $x^{(i)}$ is the $ith$ training sample (feature vector)\n",
    "    * $X$ has dim $dim \\ of \\ feature  \\ vector \\times M $\n",
    "    \n",
    "* $Z^{[l]} = (z^{[l](1)},...z^{[l](M)}) $ is the node vector at layer $l$  \n",
    "    * $z^{[l](i)}=  w^{[l]} x^{(i)} +b^{[l]}$\n",
    "    * M training samples share the same $w^{[l]}$ and $b^{[l]}$ for layer $l$\n",
    "\n",
    "\n",
    "### <ins> * Video · Explanation for Vectorized Implementation*</ins>\n",
    "### <ins> * Video · Activation functions*</ins>\n",
    "###### <span style=\"color:red\">  My Comment </span>\n",
    "use $g(\\cdot)$ to represnt the activation function\n",
    "* tanh activation function: \n",
    "    * $tanh(z)=\\frac{e^z-e^{-z}}{e^z+e^{-z}}$\n",
    "    * belongs to (-1,1)\n",
    "* ReLu: $max\\{0,z\\}$ \n",
    "* leaky ReLu: $ \\{-0.01 z \\ if \\ z<0, z \\ if \\ z \\ge 0 \\}$\n",
    "* usually use tanh/ reLu /(rectified) leaky reLu for hidden layers and sigmoid / reLu /(rectified) leaky reLu for output layer\n",
    "* faster learning rate for reLu, \n",
    "* use sigmoid at output layer unless for value classification\n",
    "\n",
    "### <ins> * Video · Why do you need non-linear activation functions?*</ins>\n",
    "###### <span style=\"color:red\">  My Comment </span>\n",
    "* layers of linear activation function $\\iff$ 1 layer of linear\n",
    "* use non-linear activation function for hidden layers\n",
    "* consider linear activation function for output layer\n",
    "\n",
    "### <ins> * Video · Derivatives of activation functions*</ins>\n",
    "###### <span style=\"color:red\">  My Comment </span>\n",
    "* sigmoid activation function: $g(z)= 1/(1+e^{-z})$\n",
    "    * $g^{\\prime} (z)=d \\ g(z) /d \\ z = g(z) (1-g(z))$\n",
    "* tanh: $g(z)=tanh(z)=\\frac{e^z-e^{-z}}{e^z+e^{-z}}$\n",
    "* ReLu: $g(z)=$\n",
    "    * $ g^{\\prime} (z) =\\{0 \\ if \\ z<0 ; \\ 1 \\ if \\ z\\ge 0\\}$ \n",
    "\n",
    "### <ins> * Video · Gradient descent for Neural Networks*</ins>\n",
    "###### <span style=\"color:red\">  My Comment </span>\n",
    "notations: $n^{[l]}$ the number of nodes at layer $l$. $n^{[0]} = n_x$, which is the dim of feature vector.\n",
    "* at layer $l$, parameters are $w^{[l]}$ and $b^{[l]}$, $w^{[l]}$ has dim $n^{[l]}\\times n^{[l-1]}$, $b^{[l]}$ has dim $n^{[l]}\\times 1$.\n",
    "\n",
    "Gradient descent, repeatly do the following iterations:\n",
    "* forward propogation for $\\hat{y}$\n",
    "* back propogation for $ d \\ parameters $\n",
    "* update the parameters\n",
    "\n",
    "![Example of consequence of large weight.](https://github.com/WangJunshan3/Learning_notebook/tree/master/pics/gradient descent.png)\n",
    "*********\n",
    "\n",
    "### <ins> * Video · Backpropagation intuition (optional)*</ins>\n",
    "###### <span style=\"color:red\">  My Comment </span>\n"
   ]
  },
  {
   "cell_type": "markdown",
   "metadata": {
    "hidden": true
   },
   "source": [
    "### <ins> * Video · Random Initialization*</ins>\n",
    "###### <span style=\"color:red\">  My Comment </span>\n",
    "zero initializion of weights will result in symmetric nodes in hidden layers, thus are computing same function for nodes in the hidden layer, which is pointless. \n",
    "\n",
    "small weight in initialization: w= random(,)*0.01  \n",
    "* resemble the problem in triaing procedure: large weights of nodes -> large z -> small or 0 $g^{\\prime}$ -> slow learning rate or stucked learning procedure.\n",
    "\n",
    "![Example of consequence of large weight.](https://github.com/WangJunshan3/Learning_notebook/tree/master/pics/random_initialization.png)\n",
    "*********\n",
    "\n",
    "### <ins> * Quiz · Shallow Neural Networks*</ins>\n",
    "### <ins> * Other · Planar data classification with a hidden layer*</ins>\n",
    "### <ins> * Programming Assignment · Planar data classification with a hidden layer*</ins>\n",
    "\n"
   ]
  },
  {
   "cell_type": "markdown",
   "metadata": {},
   "source": [
    "## WEEK 4: Deep Neural Networks\n",
    "Understand the key computations underlying deep learning, use them to build and train deep neural networks, and apply it to computer vision."
   ]
  },
  {
   "cell_type": "markdown",
   "metadata": {
    "collapsed": true
   },
   "source": [
    "### <ins> * Video · Deep L-layer neural network*</ins>\n",
    "###### <span style=\"color:red\">  My Comment </span>\n",
    "* shallow NN: just th input and output layer, namely, 1 layer NN.\n",
    "* notations: \n",
    "    * L - # layers in NN; \n",
    "    * $n^{[l]}$ - # nodes in layer $l$\n",
    "    * $a^{[l]}$ - activation \n",
    "    * $w^{[l]}$ - weights for $z^{[l]}$\n",
    "    * $b^{[l]}$ - bias for $z^{[l]}$\n",
    "\n",
    "### <ins> * Video · Forward Propagation in a Deep Network*</ins>\n",
    "###### <span style=\"color:red\">  My Comment </span>\n",
    "at layer $l$,\n",
    "* $z^{[l]}=w^{[l]} \\ a^{[l-1]} + b^{[l]}$\n",
    "    * $z^{[l]}$ - dim: $n^{[l]}\\times 1$\n",
    "    * $w^{[l]}$ - dim $n^{[l]}\\times n^{[l-1]}$\n",
    "    * $b^{[l]}$ - dim $n^{[l]}\\times 1$\n",
    "* $a^{[l]}= g(z^{[l]}) $, dim: $n^{[l]}\\times 1$  \n",
    "* $a^{[0]} = x$\n",
    "\n",
    "Vectorization for M training examples,\n",
    "* $Z^{[l]}=w^{[l]} \\ A^{[l-1]} + b^{[l]}$, \n",
    "    * $Z^{[l]}$ - dim: $n^{[l]}\\times M$\n",
    "    * $w^{[l]}$ - dim $n^{[l]}\\times n^{[l-1]}$\n",
    "    * $b^{[l]}$ - dim $n^{[l]}\\times 1$\n",
    "* $A^{[l]}= g(Z^{[l]}) $, dim: $n^{[l]}\\times M$\n",
    "* $A^{[0]} = X$\n",
    "\n",
    "### <ins> * Video · Getting your matrix dimensions right*</ins>\n",
    "###### <span style=\"color:red\">  My Comment </span>\n",
    "from simple to complex,for example,\n",
    "* face recognition: edges -> parts -> face\n",
    "* audio: low -> ..->words--> sentence/phrase\n",
    "\n",
    "### <ins> * Video · Why deep representations?*</ins>\n",
    "###### <span style=\"color:red\">  My Comment </span>\n",
    "deep NN vs. swallow NN\n",
    "* computation complexity: $O(\\log(n))$ vs. $2^n$\n",
    "\n",
    "### <ins> * Video · Building blocks of deep neural networks*</ins>\n",
    "\n",
    "### <ins> * Video · Forward and Back Propagation*</ins>\n",
    "###### <span style=\"color:red\">  My Comment </span>\n",
    "iteratively repeat the following:\n",
    "* in layer $l$, parameters are $w^{[l]}$ and $b^{[l]}$\n",
    "* forward, for $l$ in {0,...,L}\n",
    "    * input $a^{[l-1]}$ --->  $w^{[l]}$ and $b^{[l]}$ with $z^{[l]}$ cached ---> output $a^{[l]}$\n",
    "* backward, for $l$ in {L,...,0}\n",
    "    * input $d \\ a^{[l]}$ --->  $w^{[l]}$ and $b^{[l]}$ and $ d \\ z^{[l]}$ ---> output $d \\ a^{[l-1]}$  and $d \\ w^{[l]}$ and $d \\ b^{[l]}$ to update $w^{[l]}$ and $b^{[l]}$\n",
    "    \n",
    "Similarly to M training examples, except\n",
    "* $d \\ w^{[l]}$ and $d \\ b^{[l]}$ is the average of $d \\ w^{[l]}$ and $d \\ b^{[l]}$ calculated using each of M examples.\n",
    "\n",
    "![forward_back_propogation.](https://github.com/WangJunshan3/Learning_notebook/tree/master/pics/forward_back.png)\n",
    "*********\n",
    "\n",
    "### <ins> * Video · Parameters vs Hyperparameters*</ins>\n",
    "###### <span style=\"color:red\">  My Comment </span>\n",
    "Parameters:  $w^{[l]}$ and $b^{[l]}$ for $l $ in {0,...,L}  \n",
    "Hyperparameters: \n",
    "* learning rate $\\alpha$\n",
    "* \\# iterations\n",
    "* \\# hidden layers\n",
    "* \\# nodes in each hidden layers\n",
    "* choice of activation functions\n",
    "\n",
    "Later: mini-batches size,...\n",
    "\n",
    "Empirical process:  \n",
    "    Try different combinations/values of hyperparemeters and complete the circle idea -> code -> experiment -> code.\n",
    "\n",
    "### <ins> * Video · What does this have to do with the brain?*</ins>\n",
    "###### <span style=\"color:red\">  My Comment </span>\n",
    "\n",
    "\n",
    "### <ins> * Quiz · Key concepts on Deep Neural Networks*</ins>\n",
    "### <ins> * Other · Building your Deep Neural Network: Step by Step*</ins>\n",
    "### <ins> * Programming Assignment · Building your deep neural network: Step by Step*</ins>\n",
    "### <ins> * Other · Deep Neural Network - Application*</ins>\n",
    "### <ins> * Programming Assignment · Deep Neural Network Application*</ins>\n",
    "\n"
   ]
  },
  {
   "cell_type": "code",
   "execution_count": null,
   "metadata": {
    "collapsed": true
   },
   "outputs": [],
   "source": []
  }
 ],
 "metadata": {
  "hide_input": false,
  "kernelspec": {
   "display_name": "Python 3",
   "language": "python",
   "name": "python3"
  },
  "language_info": {
   "codemirror_mode": {
    "name": "ipython",
    "version": 3
   },
   "file_extension": ".py",
   "mimetype": "text/x-python",
   "name": "python",
   "nbconvert_exporter": "python",
   "pygments_lexer": "ipython3",
   "version": "3.6.4"
  },
  "toc": {
   "base_numbering": 1,
   "nav_menu": {},
   "number_sections": true,
   "sideBar": true,
   "skip_h1_title": true,
   "title_cell": "Table of Contents",
   "title_sidebar": "Contents",
   "toc_cell": true,
   "toc_position": {
    "height": "calc(100% - 180px)",
    "left": "10px",
    "top": "150px",
    "width": "273px"
   },
   "toc_section_display": true,
   "toc_window_display": true
  }
 },
 "nbformat": 4,
 "nbformat_minor": 2
}
